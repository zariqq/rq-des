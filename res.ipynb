{
 "cells": [
  {
   "cell_type": "code",
   "execution_count": 1,
   "id": "7c65240a",
   "metadata": {},
   "outputs": [
    {
     "name": "stdout",
     "output_type": "stream",
     "text": [
      "* * *\n"
     ]
    }
   ],
   "source": [
    "import numpy as np\n",
    "import pandas as pd\n",
    "import matplotlib.pyplot as plt\n",
    "from sim_cp import run_i_n, random_generator\n",
    "from sim import run_v2"
   ]
  },
  {
   "cell_type": "code",
   "execution_count": null,
   "id": "790b8aeb",
   "metadata": {},
   "outputs": [
    {
     "name": "stdout",
     "output_type": "stream",
     "text": [
      "* * *\n"
     ]
    }
   ],
   "source": [
    "%%time\n",
    "\n",
    "i, n = run_i_n(10 ** 8)\n",
    "\n",
    "plt.plot(np.arange(len(i)), i)\n",
    "plt.plot(np.arange(len(n)), n)"
   ]
  },
  {
   "cell_type": "code",
   "execution_count": 3,
   "id": "112ab14b",
   "metadata": {},
   "outputs": [],
   "source": [
    "def pdf_to_cdf(pdf: np.array):\n",
    "    cdf = pdf.copy()\n",
    "\n",
    "    for ax in range(pdf.ndim):\n",
    "        np.cumsum(cdf, axis=ax, out=cdf)\n",
    "    return cdf"
   ]
  },
  {
   "cell_type": "code",
   "execution_count": 3,
   "id": "7d1d07cc",
   "metadata": {},
   "outputs": [],
   "source": [
    "def equalize_length(a, b):\n",
    "    len_a, len_b = len(a), len(b)\n",
    "    max_len = max(len_a, len_b)\n",
    "\n",
    "    out_a = np.zeros(max_len, dtype=a.dtype)\n",
    "    out_b = np.zeros(max_len, dtype=b.dtype)\n",
    "\n",
    "    out_a[:len_a] = a\n",
    "    out_b[:len_b] = b\n",
    "\n",
    "    return out_a, out_b"
   ]
  },
  {
   "cell_type": "code",
   "execution_count": 12,
   "id": "7ae35f1b",
   "metadata": {},
   "outputs": [],
   "source": [
    "def diff(start = 5, end = 7, step = 1):\n",
    "    times = [10 ** i for i in range(start, end, step)]\n",
    "\n",
    "    table_len = len(times)\n",
    "\n",
    "    d1 = np.zeros(table_len)\n",
    "    d2 = np.zeros(table_len)\n",
    "\n",
    "    for i in range(table_len):\n",
    "        i1, n1 = run_i_n(times[i])\n",
    "        i2, n2 = run_i_n(times[i])\n",
    "\n",
    "        print(f'10^{start + i}', len(i1), len(i2), len(n1), len(n2))\n",
    "\n",
    "        i1, i2 = equalize_length(i1, i2)\n",
    "        n1, n2 = equalize_length(n1, n2)\n",
    "\n",
    "        f11 = pdf_to_cdf(i1)\n",
    "        f12 = pdf_to_cdf(n1)\n",
    "\n",
    "        f21 = pdf_to_cdf(i2)\n",
    "        f22 = pdf_to_cdf(n2)\n",
    "\n",
    "        d1[i] = np.max(np.abs(f11 - f21))\n",
    "        d2[i] = np.max(np.abs(f12 - f22))\n",
    "\n",
    "    return pd.DataFrame({\n",
    "        'D1': d1,\n",
    "        'D2': d2\n",
    "    }, index=[f'10^{i}' for i in range(start, end, step)])"
   ]
  },
  {
   "cell_type": "code",
   "execution_count": 13,
   "id": "949784b8",
   "metadata": {},
   "outputs": [
    {
     "name": "stdout",
     "output_type": "stream",
     "text": [
      "10^5 228 193 45 47\n",
      "10^6 246 242 50 49\n"
     ]
    },
    {
     "data": {
      "text/html": [
       "<div>\n",
       "<style scoped>\n",
       "    .dataframe tbody tr th:only-of-type {\n",
       "        vertical-align: middle;\n",
       "    }\n",
       "\n",
       "    .dataframe tbody tr th {\n",
       "        vertical-align: top;\n",
       "    }\n",
       "\n",
       "    .dataframe thead th {\n",
       "        text-align: right;\n",
       "    }\n",
       "</style>\n",
       "<table border=\"1\" class=\"dataframe\">\n",
       "  <thead>\n",
       "    <tr style=\"text-align: right;\">\n",
       "      <th></th>\n",
       "      <th>10^5</th>\n",
       "      <th>10^6</th>\n",
       "    </tr>\n",
       "  </thead>\n",
       "  <tbody>\n",
       "    <tr>\n",
       "      <th>D1</th>\n",
       "      <td>0.072200</td>\n",
       "      <td>0.016899</td>\n",
       "    </tr>\n",
       "    <tr>\n",
       "      <th>D2</th>\n",
       "      <td>0.005531</td>\n",
       "      <td>0.003447</td>\n",
       "    </tr>\n",
       "  </tbody>\n",
       "</table>\n",
       "</div>"
      ],
      "text/plain": [
       "        10^5      10^6\n",
       "D1  0.072200  0.016899\n",
       "D2  0.005531  0.003447"
      ]
     },
     "execution_count": 13,
     "metadata": {},
     "output_type": "execute_result"
    }
   ],
   "source": [
    "diff().T"
   ]
  },
  {
   "cell_type": "code",
   "execution_count": 14,
   "id": "26ba8a5c",
   "metadata": {},
   "outputs": [
    {
     "name": "stdout",
     "output_type": "stream",
     "text": [
      "10^5 229 202 45 47\n",
      "10^6 252 255 49 49\n"
     ]
    },
    {
     "data": {
      "text/html": [
       "<div>\n",
       "<style scoped>\n",
       "    .dataframe tbody tr th:only-of-type {\n",
       "        vertical-align: middle;\n",
       "    }\n",
       "\n",
       "    .dataframe tbody tr th {\n",
       "        vertical-align: top;\n",
       "    }\n",
       "\n",
       "    .dataframe thead th {\n",
       "        text-align: right;\n",
       "    }\n",
       "</style>\n",
       "<table border=\"1\" class=\"dataframe\">\n",
       "  <thead>\n",
       "    <tr style=\"text-align: right;\">\n",
       "      <th></th>\n",
       "      <th>10^5</th>\n",
       "      <th>10^6</th>\n",
       "    </tr>\n",
       "  </thead>\n",
       "  <tbody>\n",
       "    <tr>\n",
       "      <th>D1</th>\n",
       "      <td>0.144709</td>\n",
       "      <td>0.018132</td>\n",
       "    </tr>\n",
       "    <tr>\n",
       "      <th>D2</th>\n",
       "      <td>0.015603</td>\n",
       "      <td>0.001866</td>\n",
       "    </tr>\n",
       "  </tbody>\n",
       "</table>\n",
       "</div>"
      ],
      "text/plain": [
       "        10^5      10^6\n",
       "D1  0.144709  0.018132\n",
       "D2  0.015603  0.001866"
      ]
     },
     "execution_count": 14,
     "metadata": {},
     "output_type": "execute_result"
    }
   ],
   "source": [
    "diff().T"
   ]
  },
  {
   "cell_type": "code",
   "execution_count": 15,
   "id": "355a1a5e",
   "metadata": {},
   "outputs": [
    {
     "name": "stdout",
     "output_type": "stream",
     "text": [
      "10^5 202 218 46 44\n",
      "10^6 234 251 46 46\n",
      "10^7 255 274 55 50\n",
      "10^8 280 295 56 54\n"
     ]
    },
    {
     "data": {
      "text/html": [
       "<div>\n",
       "<style scoped>\n",
       "    .dataframe tbody tr th:only-of-type {\n",
       "        vertical-align: middle;\n",
       "    }\n",
       "\n",
       "    .dataframe tbody tr th {\n",
       "        vertical-align: top;\n",
       "    }\n",
       "\n",
       "    .dataframe thead th {\n",
       "        text-align: right;\n",
       "    }\n",
       "</style>\n",
       "<table border=\"1\" class=\"dataframe\">\n",
       "  <thead>\n",
       "    <tr style=\"text-align: right;\">\n",
       "      <th></th>\n",
       "      <th>10^5</th>\n",
       "      <th>10^6</th>\n",
       "      <th>10^7</th>\n",
       "      <th>10^8</th>\n",
       "    </tr>\n",
       "  </thead>\n",
       "  <tbody>\n",
       "    <tr>\n",
       "      <th>D1</th>\n",
       "      <td>0.107160</td>\n",
       "      <td>0.020776</td>\n",
       "      <td>0.005368</td>\n",
       "      <td>0.002252</td>\n",
       "    </tr>\n",
       "    <tr>\n",
       "      <th>D2</th>\n",
       "      <td>0.014009</td>\n",
       "      <td>0.003466</td>\n",
       "      <td>0.001004</td>\n",
       "      <td>0.000376</td>\n",
       "    </tr>\n",
       "  </tbody>\n",
       "</table>\n",
       "</div>"
      ],
      "text/plain": [
       "        10^5      10^6      10^7      10^8\n",
       "D1  0.107160  0.020776  0.005368  0.002252\n",
       "D2  0.014009  0.003466  0.001004  0.000376"
      ]
     },
     "execution_count": 15,
     "metadata": {},
     "output_type": "execute_result"
    }
   ],
   "source": [
    "diff(5, 9).T"
   ]
  },
  {
   "cell_type": "code",
   "execution_count": 81,
   "id": "fa51ee2d",
   "metadata": {},
   "outputs": [
    {
     "data": {
      "text/html": [
       "<div>\n",
       "<style scoped>\n",
       "    .dataframe tbody tr th:only-of-type {\n",
       "        vertical-align: middle;\n",
       "    }\n",
       "\n",
       "    .dataframe tbody tr th {\n",
       "        vertical-align: top;\n",
       "    }\n",
       "\n",
       "    .dataframe thead th {\n",
       "        text-align: right;\n",
       "    }\n",
       "</style>\n",
       "<table border=\"1\" class=\"dataframe\">\n",
       "  <thead>\n",
       "    <tr style=\"text-align: right;\">\n",
       "      <th></th>\n",
       "      <th>10^5</th>\n",
       "      <th>10^6</th>\n",
       "      <th>10^7</th>\n",
       "      <th>10^8</th>\n",
       "    </tr>\n",
       "  </thead>\n",
       "  <tbody>\n",
       "    <tr>\n",
       "      <th>D1</th>\n",
       "      <td>0.094531</td>\n",
       "      <td>0.035129</td>\n",
       "      <td>0.008459</td>\n",
       "      <td>0.002592</td>\n",
       "    </tr>\n",
       "    <tr>\n",
       "      <th>D2</th>\n",
       "      <td>0.002974</td>\n",
       "      <td>0.009185</td>\n",
       "      <td>0.001123</td>\n",
       "      <td>0.000282</td>\n",
       "    </tr>\n",
       "  </tbody>\n",
       "</table>\n",
       "</div>"
      ],
      "text/plain": [
       "        10^5      10^6      10^7      10^8\n",
       "D1  0.094531  0.035129  0.008459  0.002592\n",
       "D2  0.002974  0.009185  0.001123  0.000282"
      ]
     },
     "execution_count": 81,
     "metadata": {},
     "output_type": "execute_result"
    }
   ],
   "source": [
    "diff(5, 9).T"
   ]
  },
  {
   "cell_type": "code",
   "execution_count": null,
   "id": "62445c0f",
   "metadata": {},
   "outputs": [],
   "source": [
    "diff(10, 11).T"
   ]
  },
  {
   "cell_type": "code",
   "execution_count": 9,
   "id": "f88b8644",
   "metadata": {},
   "outputs": [
    {
     "name": "stdout",
     "output_type": "stream",
     "text": [
      "tensor([1.], device='mps:0')\n"
     ]
    }
   ],
   "source": [
    "import torch\n",
    "\n",
    "if torch.backends.mps.is_available():\n",
    "    mps_device = torch.device(\"mps\")\n",
    "    x = torch.ones(1, device=mps_device)\n",
    "    print(x)\n",
    "else:\n",
    "    print(\"MPS device not found.\")"
   ]
  },
  {
   "cell_type": "code",
   "execution_count": 2,
   "id": "b746f0ee",
   "metadata": {},
   "outputs": [
    {
     "name": "stdout",
     "output_type": "stream",
     "text": [
      "Python 3.13.5\n"
     ]
    }
   ],
   "source": [
    "!python -V"
   ]
  },
  {
   "cell_type": "code",
   "execution_count": 11,
   "id": "3cc41a97",
   "metadata": {},
   "outputs": [
    {
     "data": {
      "text/plain": [
       "(array([0.31408383, 0.30238224, 0.66660812, 0.57848191, 0.55839583]),\n",
       " array([0.32993989, 2.11927994, 0.69355885, 0.07040188, 0.87553988]))"
      ]
     },
     "execution_count": 11,
     "metadata": {},
     "output_type": "execute_result"
    }
   ],
   "source": [
    "random_generator()[:5], random_generator()[:5]"
   ]
  }
 ],
 "metadata": {
  "kernelspec": {
   "display_name": "base",
   "language": "python",
   "name": "python3"
  },
  "language_info": {
   "codemirror_mode": {
    "name": "ipython",
    "version": 3
   },
   "file_extension": ".py",
   "mimetype": "text/x-python",
   "name": "python",
   "nbconvert_exporter": "python",
   "pygments_lexer": "ipython3",
   "version": "3.13.5"
  }
 },
 "nbformat": 4,
 "nbformat_minor": 5
}
